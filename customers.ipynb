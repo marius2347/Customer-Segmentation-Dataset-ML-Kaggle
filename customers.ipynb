{
 "cells": [
  {
   "cell_type": "markdown",
   "metadata": {},
   "source": [
    "<h1 style = \"color: skyblue\">Customer Segmentation Dataset ML Kaggle</h1>"
   ]
  },
  {
   "cell_type": "markdown",
   "metadata": {},
   "source": [
    "<h1 style = \"color: skyblue\">Importing modules</h1>"
   ]
  },
  {
   "cell_type": "code",
   "execution_count": 93,
   "metadata": {},
   "outputs": [],
   "source": [
    "import pandas as pd\n",
    "from sklearn.preprocessing import StandardScaler, OrdinalEncoder\n",
    "from sklearn.cluster import KMeans\n",
    "import numpy as np\n",
    "import matplotlib.pyplot as plt\n",
    "from sklearn.metrics import silhouette_score\n"
   ]
  },
  {
   "cell_type": "code",
   "execution_count": 2,
   "metadata": {},
   "outputs": [
    {
     "data": {
      "text/html": [
       "<div>\n",
       "<style scoped>\n",
       "    .dataframe tbody tr th:only-of-type {\n",
       "        vertical-align: middle;\n",
       "    }\n",
       "\n",
       "    .dataframe tbody tr th {\n",
       "        vertical-align: top;\n",
       "    }\n",
       "\n",
       "    .dataframe thead th {\n",
       "        text-align: right;\n",
       "    }\n",
       "</style>\n",
       "<table border=\"1\" class=\"dataframe\">\n",
       "  <thead>\n",
       "    <tr style=\"text-align: right;\">\n",
       "      <th></th>\n",
       "      <th>InvoiceNo</th>\n",
       "      <th>StockCode</th>\n",
       "      <th>Description</th>\n",
       "      <th>Quantity</th>\n",
       "      <th>InvoiceDate</th>\n",
       "      <th>UnitPrice</th>\n",
       "      <th>CustomerID</th>\n",
       "      <th>Country</th>\n",
       "    </tr>\n",
       "  </thead>\n",
       "  <tbody>\n",
       "    <tr>\n",
       "      <th>0</th>\n",
       "      <td>536365</td>\n",
       "      <td>85123A</td>\n",
       "      <td>WHITE HANGING HEART T-LIGHT HOLDER</td>\n",
       "      <td>6</td>\n",
       "      <td>2010-12-01 08:26:00</td>\n",
       "      <td>2.55</td>\n",
       "      <td>17850.0</td>\n",
       "      <td>United Kingdom</td>\n",
       "    </tr>\n",
       "    <tr>\n",
       "      <th>1</th>\n",
       "      <td>536365</td>\n",
       "      <td>71053</td>\n",
       "      <td>WHITE METAL LANTERN</td>\n",
       "      <td>6</td>\n",
       "      <td>2010-12-01 08:26:00</td>\n",
       "      <td>3.39</td>\n",
       "      <td>17850.0</td>\n",
       "      <td>United Kingdom</td>\n",
       "    </tr>\n",
       "    <tr>\n",
       "      <th>2</th>\n",
       "      <td>536365</td>\n",
       "      <td>84406B</td>\n",
       "      <td>CREAM CUPID HEARTS COAT HANGER</td>\n",
       "      <td>8</td>\n",
       "      <td>2010-12-01 08:26:00</td>\n",
       "      <td>2.75</td>\n",
       "      <td>17850.0</td>\n",
       "      <td>United Kingdom</td>\n",
       "    </tr>\n",
       "    <tr>\n",
       "      <th>3</th>\n",
       "      <td>536365</td>\n",
       "      <td>84029G</td>\n",
       "      <td>KNITTED UNION FLAG HOT WATER BOTTLE</td>\n",
       "      <td>6</td>\n",
       "      <td>2010-12-01 08:26:00</td>\n",
       "      <td>3.39</td>\n",
       "      <td>17850.0</td>\n",
       "      <td>United Kingdom</td>\n",
       "    </tr>\n",
       "    <tr>\n",
       "      <th>4</th>\n",
       "      <td>536365</td>\n",
       "      <td>84029E</td>\n",
       "      <td>RED WOOLLY HOTTIE WHITE HEART.</td>\n",
       "      <td>6</td>\n",
       "      <td>2010-12-01 08:26:00</td>\n",
       "      <td>3.39</td>\n",
       "      <td>17850.0</td>\n",
       "      <td>United Kingdom</td>\n",
       "    </tr>\n",
       "  </tbody>\n",
       "</table>\n",
       "</div>"
      ],
      "text/plain": [
       "  InvoiceNo StockCode                          Description  Quantity  \\\n",
       "0    536365    85123A   WHITE HANGING HEART T-LIGHT HOLDER         6   \n",
       "1    536365     71053                  WHITE METAL LANTERN         6   \n",
       "2    536365    84406B       CREAM CUPID HEARTS COAT HANGER         8   \n",
       "3    536365    84029G  KNITTED UNION FLAG HOT WATER BOTTLE         6   \n",
       "4    536365    84029E       RED WOOLLY HOTTIE WHITE HEART.         6   \n",
       "\n",
       "          InvoiceDate  UnitPrice  CustomerID         Country  \n",
       "0 2010-12-01 08:26:00       2.55     17850.0  United Kingdom  \n",
       "1 2010-12-01 08:26:00       3.39     17850.0  United Kingdom  \n",
       "2 2010-12-01 08:26:00       2.75     17850.0  United Kingdom  \n",
       "3 2010-12-01 08:26:00       3.39     17850.0  United Kingdom  \n",
       "4 2010-12-01 08:26:00       3.39     17850.0  United Kingdom  "
      ]
     },
     "execution_count": 2,
     "metadata": {},
     "output_type": "execute_result"
    }
   ],
   "source": [
    "customers = pd.read_excel('./Online Retail.xlsx')\n",
    "customers.head()"
   ]
  },
  {
   "cell_type": "code",
   "execution_count": 3,
   "metadata": {},
   "outputs": [
    {
     "data": {
      "text/html": [
       "<div>\n",
       "<style scoped>\n",
       "    .dataframe tbody tr th:only-of-type {\n",
       "        vertical-align: middle;\n",
       "    }\n",
       "\n",
       "    .dataframe tbody tr th {\n",
       "        vertical-align: top;\n",
       "    }\n",
       "\n",
       "    .dataframe thead th {\n",
       "        text-align: right;\n",
       "    }\n",
       "</style>\n",
       "<table border=\"1\" class=\"dataframe\">\n",
       "  <thead>\n",
       "    <tr style=\"text-align: right;\">\n",
       "      <th></th>\n",
       "      <th>InvoiceNo</th>\n",
       "      <th>StockCode</th>\n",
       "      <th>Description</th>\n",
       "      <th>Quantity</th>\n",
       "      <th>InvoiceDate</th>\n",
       "      <th>UnitPrice</th>\n",
       "      <th>CustomerID</th>\n",
       "      <th>Country</th>\n",
       "    </tr>\n",
       "  </thead>\n",
       "  <tbody>\n",
       "    <tr>\n",
       "      <th>134216</th>\n",
       "      <td>547830</td>\n",
       "      <td>22558</td>\n",
       "      <td>CLOTHES PEGS RETROSPOT PACK 24</td>\n",
       "      <td>1</td>\n",
       "      <td>2011-03-25 15:50:00</td>\n",
       "      <td>3.29</td>\n",
       "      <td>NaN</td>\n",
       "      <td>United Kingdom</td>\n",
       "    </tr>\n",
       "    <tr>\n",
       "      <th>53495</th>\n",
       "      <td>540838</td>\n",
       "      <td>22384</td>\n",
       "      <td>LUNCH BAG PINK POLKADOT</td>\n",
       "      <td>10</td>\n",
       "      <td>2011-01-11 15:13:00</td>\n",
       "      <td>1.65</td>\n",
       "      <td>13862.0</td>\n",
       "      <td>United Kingdom</td>\n",
       "    </tr>\n",
       "    <tr>\n",
       "      <th>206415</th>\n",
       "      <td>554935</td>\n",
       "      <td>22557</td>\n",
       "      <td>PLASTERS IN TIN VINTAGE PAISLEY</td>\n",
       "      <td>12</td>\n",
       "      <td>2011-05-27 13:30:00</td>\n",
       "      <td>1.65</td>\n",
       "      <td>14338.0</td>\n",
       "      <td>United Kingdom</td>\n",
       "    </tr>\n",
       "    <tr>\n",
       "      <th>511936</th>\n",
       "      <td>579508</td>\n",
       "      <td>82482</td>\n",
       "      <td>WOODEN PICTURE FRAME WHITE FINISH</td>\n",
       "      <td>1</td>\n",
       "      <td>2011-11-29 16:33:00</td>\n",
       "      <td>5.79</td>\n",
       "      <td>NaN</td>\n",
       "      <td>United Kingdom</td>\n",
       "    </tr>\n",
       "    <tr>\n",
       "      <th>408089</th>\n",
       "      <td>571931</td>\n",
       "      <td>22741</td>\n",
       "      <td>FUNKY DIVA PEN</td>\n",
       "      <td>2</td>\n",
       "      <td>2011-10-19 16:59:00</td>\n",
       "      <td>1.63</td>\n",
       "      <td>NaN</td>\n",
       "      <td>United Kingdom</td>\n",
       "    </tr>\n",
       "    <tr>\n",
       "      <th>193670</th>\n",
       "      <td>553541</td>\n",
       "      <td>21929</td>\n",
       "      <td>JUMBO BAG PINK VINTAGE PAISLEY</td>\n",
       "      <td>1</td>\n",
       "      <td>2011-05-17 15:33:00</td>\n",
       "      <td>4.96</td>\n",
       "      <td>NaN</td>\n",
       "      <td>United Kingdom</td>\n",
       "    </tr>\n",
       "    <tr>\n",
       "      <th>330673</th>\n",
       "      <td>565920</td>\n",
       "      <td>47566</td>\n",
       "      <td>PARTY BUNTING</td>\n",
       "      <td>4</td>\n",
       "      <td>2011-09-08 08:56:00</td>\n",
       "      <td>4.95</td>\n",
       "      <td>15298.0</td>\n",
       "      <td>United Kingdom</td>\n",
       "    </tr>\n",
       "    <tr>\n",
       "      <th>151816</th>\n",
       "      <td>549569</td>\n",
       "      <td>22292</td>\n",
       "      <td>HANGING CHICK  YELLOW DECORATION</td>\n",
       "      <td>4</td>\n",
       "      <td>2011-04-10 15:15:00</td>\n",
       "      <td>1.45</td>\n",
       "      <td>15547.0</td>\n",
       "      <td>United Kingdom</td>\n",
       "    </tr>\n",
       "    <tr>\n",
       "      <th>435118</th>\n",
       "      <td>574074</td>\n",
       "      <td>22080</td>\n",
       "      <td>RIBBON REEL POLKADOTS</td>\n",
       "      <td>1</td>\n",
       "      <td>2011-11-02 15:33:00</td>\n",
       "      <td>3.29</td>\n",
       "      <td>NaN</td>\n",
       "      <td>United Kingdom</td>\n",
       "    </tr>\n",
       "    <tr>\n",
       "      <th>218649</th>\n",
       "      <td>556056</td>\n",
       "      <td>23239</td>\n",
       "      <td>SET OF 4 KNICK KNACK TINS POPPIES</td>\n",
       "      <td>1</td>\n",
       "      <td>2011-06-08 13:35:00</td>\n",
       "      <td>4.15</td>\n",
       "      <td>17841.0</td>\n",
       "      <td>United Kingdom</td>\n",
       "    </tr>\n",
       "  </tbody>\n",
       "</table>\n",
       "</div>"
      ],
      "text/plain": [
       "       InvoiceNo StockCode                        Description  Quantity  \\\n",
       "134216    547830     22558    CLOTHES PEGS RETROSPOT PACK 24          1   \n",
       "53495     540838     22384            LUNCH BAG PINK POLKADOT        10   \n",
       "206415    554935     22557   PLASTERS IN TIN VINTAGE PAISLEY         12   \n",
       "511936    579508     82482  WOODEN PICTURE FRAME WHITE FINISH         1   \n",
       "408089    571931     22741                     FUNKY DIVA PEN         2   \n",
       "193670    553541     21929     JUMBO BAG PINK VINTAGE PAISLEY         1   \n",
       "330673    565920     47566                      PARTY BUNTING         4   \n",
       "151816    549569     22292   HANGING CHICK  YELLOW DECORATION         4   \n",
       "435118    574074     22080             RIBBON REEL POLKADOTS          1   \n",
       "218649    556056     23239  SET OF 4 KNICK KNACK TINS POPPIES         1   \n",
       "\n",
       "               InvoiceDate  UnitPrice  CustomerID         Country  \n",
       "134216 2011-03-25 15:50:00       3.29         NaN  United Kingdom  \n",
       "53495  2011-01-11 15:13:00       1.65     13862.0  United Kingdom  \n",
       "206415 2011-05-27 13:30:00       1.65     14338.0  United Kingdom  \n",
       "511936 2011-11-29 16:33:00       5.79         NaN  United Kingdom  \n",
       "408089 2011-10-19 16:59:00       1.63         NaN  United Kingdom  \n",
       "193670 2011-05-17 15:33:00       4.96         NaN  United Kingdom  \n",
       "330673 2011-09-08 08:56:00       4.95     15298.0  United Kingdom  \n",
       "151816 2011-04-10 15:15:00       1.45     15547.0  United Kingdom  \n",
       "435118 2011-11-02 15:33:00       3.29         NaN  United Kingdom  \n",
       "218649 2011-06-08 13:35:00       4.15     17841.0  United Kingdom  "
      ]
     },
     "execution_count": 3,
     "metadata": {},
     "output_type": "execute_result"
    }
   ],
   "source": [
    "customers.sample(10)"
   ]
  },
  {
   "cell_type": "markdown",
   "metadata": {},
   "source": [
    "<h1 style = \"color: skyblue\">Data information and cleaning</h1>"
   ]
  },
  {
   "cell_type": "code",
   "execution_count": 4,
   "metadata": {},
   "outputs": [
    {
     "data": {
      "text/plain": [
       "InvoiceNo           0\n",
       "StockCode           0\n",
       "Description      1454\n",
       "Quantity            0\n",
       "InvoiceDate         0\n",
       "UnitPrice           0\n",
       "CustomerID     135080\n",
       "Country             0\n",
       "dtype: int64"
      ]
     },
     "execution_count": 4,
     "metadata": {},
     "output_type": "execute_result"
    }
   ],
   "source": [
    "customers.isna().sum() # description and customerID NaN values"
   ]
  },
  {
   "cell_type": "code",
   "execution_count": 5,
   "metadata": {},
   "outputs": [
    {
     "data": {
      "text/plain": [
       "InvoiceNo      541909\n",
       "StockCode      541909\n",
       "Description    540455\n",
       "Quantity       541909\n",
       "InvoiceDate    541909\n",
       "UnitPrice      541909\n",
       "CustomerID     406829\n",
       "Country        541909\n",
       "dtype: int64"
      ]
     },
     "execution_count": 5,
     "metadata": {},
     "output_type": "execute_result"
    }
   ],
   "source": [
    "customers.notna().sum()"
   ]
  },
  {
   "cell_type": "code",
   "execution_count": 6,
   "metadata": {},
   "outputs": [
    {
     "data": {
      "text/html": [
       "<div>\n",
       "<style scoped>\n",
       "    .dataframe tbody tr th:only-of-type {\n",
       "        vertical-align: middle;\n",
       "    }\n",
       "\n",
       "    .dataframe tbody tr th {\n",
       "        vertical-align: top;\n",
       "    }\n",
       "\n",
       "    .dataframe thead th {\n",
       "        text-align: right;\n",
       "    }\n",
       "</style>\n",
       "<table border=\"1\" class=\"dataframe\">\n",
       "  <thead>\n",
       "    <tr style=\"text-align: right;\">\n",
       "      <th></th>\n",
       "      <th>Quantity</th>\n",
       "      <th>InvoiceDate</th>\n",
       "      <th>UnitPrice</th>\n",
       "      <th>CustomerID</th>\n",
       "    </tr>\n",
       "  </thead>\n",
       "  <tbody>\n",
       "    <tr>\n",
       "      <th>count</th>\n",
       "      <td>541909.000000</td>\n",
       "      <td>541909</td>\n",
       "      <td>541909.000000</td>\n",
       "      <td>406829.000000</td>\n",
       "    </tr>\n",
       "    <tr>\n",
       "      <th>mean</th>\n",
       "      <td>9.552250</td>\n",
       "      <td>2011-07-04 13:34:57.156386048</td>\n",
       "      <td>4.611114</td>\n",
       "      <td>15287.690570</td>\n",
       "    </tr>\n",
       "    <tr>\n",
       "      <th>min</th>\n",
       "      <td>-80995.000000</td>\n",
       "      <td>2010-12-01 08:26:00</td>\n",
       "      <td>-11062.060000</td>\n",
       "      <td>12346.000000</td>\n",
       "    </tr>\n",
       "    <tr>\n",
       "      <th>25%</th>\n",
       "      <td>1.000000</td>\n",
       "      <td>2011-03-28 11:34:00</td>\n",
       "      <td>1.250000</td>\n",
       "      <td>13953.000000</td>\n",
       "    </tr>\n",
       "    <tr>\n",
       "      <th>50%</th>\n",
       "      <td>3.000000</td>\n",
       "      <td>2011-07-19 17:17:00</td>\n",
       "      <td>2.080000</td>\n",
       "      <td>15152.000000</td>\n",
       "    </tr>\n",
       "    <tr>\n",
       "      <th>75%</th>\n",
       "      <td>10.000000</td>\n",
       "      <td>2011-10-19 11:27:00</td>\n",
       "      <td>4.130000</td>\n",
       "      <td>16791.000000</td>\n",
       "    </tr>\n",
       "    <tr>\n",
       "      <th>max</th>\n",
       "      <td>80995.000000</td>\n",
       "      <td>2011-12-09 12:50:00</td>\n",
       "      <td>38970.000000</td>\n",
       "      <td>18287.000000</td>\n",
       "    </tr>\n",
       "    <tr>\n",
       "      <th>std</th>\n",
       "      <td>218.081158</td>\n",
       "      <td>NaN</td>\n",
       "      <td>96.759853</td>\n",
       "      <td>1713.600303</td>\n",
       "    </tr>\n",
       "  </tbody>\n",
       "</table>\n",
       "</div>"
      ],
      "text/plain": [
       "            Quantity                    InvoiceDate      UnitPrice  \\\n",
       "count  541909.000000                         541909  541909.000000   \n",
       "mean        9.552250  2011-07-04 13:34:57.156386048       4.611114   \n",
       "min    -80995.000000            2010-12-01 08:26:00  -11062.060000   \n",
       "25%         1.000000            2011-03-28 11:34:00       1.250000   \n",
       "50%         3.000000            2011-07-19 17:17:00       2.080000   \n",
       "75%        10.000000            2011-10-19 11:27:00       4.130000   \n",
       "max     80995.000000            2011-12-09 12:50:00   38970.000000   \n",
       "std       218.081158                            NaN      96.759853   \n",
       "\n",
       "          CustomerID  \n",
       "count  406829.000000  \n",
       "mean    15287.690570  \n",
       "min     12346.000000  \n",
       "25%     13953.000000  \n",
       "50%     15152.000000  \n",
       "75%     16791.000000  \n",
       "max     18287.000000  \n",
       "std      1713.600303  "
      ]
     },
     "execution_count": 6,
     "metadata": {},
     "output_type": "execute_result"
    }
   ],
   "source": [
    "customers.describe()"
   ]
  },
  {
   "cell_type": "code",
   "execution_count": 7,
   "metadata": {},
   "outputs": [
    {
     "name": "stdout",
     "output_type": "stream",
     "text": [
      "<class 'pandas.core.frame.DataFrame'>\n",
      "RangeIndex: 541909 entries, 0 to 541908\n",
      "Data columns (total 8 columns):\n",
      " #   Column       Non-Null Count   Dtype         \n",
      "---  ------       --------------   -----         \n",
      " 0   InvoiceNo    541909 non-null  object        \n",
      " 1   StockCode    541909 non-null  object        \n",
      " 2   Description  540455 non-null  object        \n",
      " 3   Quantity     541909 non-null  int64         \n",
      " 4   InvoiceDate  541909 non-null  datetime64[ns]\n",
      " 5   UnitPrice    541909 non-null  float64       \n",
      " 6   CustomerID   406829 non-null  float64       \n",
      " 7   Country      541909 non-null  object        \n",
      "dtypes: datetime64[ns](1), float64(2), int64(1), object(4)\n",
      "memory usage: 33.1+ MB\n"
     ]
    }
   ],
   "source": [
    "customers.info()"
   ]
  },
  {
   "cell_type": "code",
   "execution_count": 12,
   "metadata": {},
   "outputs": [
    {
     "data": {
      "text/plain": [
       "array(['United Kingdom', 'France', 'Australia', 'Netherlands', 'Germany',\n",
       "       'Norway', 'EIRE', 'Switzerland', 'Spain', 'Poland', 'Portugal',\n",
       "       'Italy', 'Belgium', 'Lithuania', 'Japan', 'Iceland',\n",
       "       'Channel Islands', 'Denmark', 'Cyprus', 'Sweden', 'Austria',\n",
       "       'Israel', 'Finland', 'Bahrain', 'Greece', 'Hong Kong', 'Singapore',\n",
       "       'Lebanon', 'United Arab Emirates', 'Saudi Arabia',\n",
       "       'Czech Republic', 'Canada', 'Unspecified', 'Brazil', 'USA',\n",
       "       'European Community', 'Malta', 'RSA'], dtype=object)"
      ]
     },
     "execution_count": 12,
     "metadata": {},
     "output_type": "execute_result"
    }
   ],
   "source": [
    "customers['Country'].unique()"
   ]
  },
  {
   "cell_type": "code",
   "execution_count": 18,
   "metadata": {},
   "outputs": [
    {
     "data": {
      "text/html": [
       "<div>\n",
       "<style scoped>\n",
       "    .dataframe tbody tr th:only-of-type {\n",
       "        vertical-align: middle;\n",
       "    }\n",
       "\n",
       "    .dataframe tbody tr th {\n",
       "        vertical-align: top;\n",
       "    }\n",
       "\n",
       "    .dataframe thead th {\n",
       "        text-align: right;\n",
       "    }\n",
       "</style>\n",
       "<table border=\"1\" class=\"dataframe\">\n",
       "  <thead>\n",
       "    <tr style=\"text-align: right;\">\n",
       "      <th></th>\n",
       "      <th>Quantity</th>\n",
       "      <th>UnitPrice</th>\n",
       "      <th>Country</th>\n",
       "    </tr>\n",
       "  </thead>\n",
       "  <tbody>\n",
       "    <tr>\n",
       "      <th>175772</th>\n",
       "      <td>4</td>\n",
       "      <td>4.15</td>\n",
       "      <td>Belgium</td>\n",
       "    </tr>\n",
       "    <tr>\n",
       "      <th>66186</th>\n",
       "      <td>12</td>\n",
       "      <td>1.25</td>\n",
       "      <td>United Kingdom</td>\n",
       "    </tr>\n",
       "    <tr>\n",
       "      <th>386098</th>\n",
       "      <td>3</td>\n",
       "      <td>2.10</td>\n",
       "      <td>United Kingdom</td>\n",
       "    </tr>\n",
       "    <tr>\n",
       "      <th>431001</th>\n",
       "      <td>2</td>\n",
       "      <td>2.46</td>\n",
       "      <td>United Kingdom</td>\n",
       "    </tr>\n",
       "    <tr>\n",
       "      <th>51969</th>\n",
       "      <td>2</td>\n",
       "      <td>0.81</td>\n",
       "      <td>United Kingdom</td>\n",
       "    </tr>\n",
       "  </tbody>\n",
       "</table>\n",
       "</div>"
      ],
      "text/plain": [
       "        Quantity  UnitPrice         Country\n",
       "175772         4       4.15         Belgium\n",
       "66186         12       1.25  United Kingdom\n",
       "386098         3       2.10  United Kingdom\n",
       "431001         2       2.46  United Kingdom\n",
       "51969          2       0.81  United Kingdom"
      ]
     },
     "execution_count": 18,
     "metadata": {},
     "output_type": "execute_result"
    }
   ],
   "source": [
    "# Clean dataset for NaN values and drop useless columns\n",
    "\n",
    "new_customers = customers.drop(columns = ['StockCode', 'Description', 'InvoiceDate', 'CustomerID', 'InvoiceNo'], axis = 1)\n",
    "new_customers.sample(5)"
   ]
  },
  {
   "cell_type": "markdown",
   "metadata": {},
   "source": [
    "<h1 style = \"color: skyblue\">Preprocessing</h1>"
   ]
  },
  {
   "cell_type": "code",
   "execution_count": 34,
   "metadata": {},
   "outputs": [
    {
     "data": {
      "text/plain": [
       "array([[-0.01628867, -0.02130135],\n",
       "       [-0.01628867, -0.01262006],\n",
       "       [-0.00711777, -0.01923438],\n",
       "       ...,\n",
       "       [-0.02545958, -0.00476555],\n",
       "       [-0.02545958, -0.00476555],\n",
       "       [-0.03004503,  0.00350235]])"
      ]
     },
     "execution_count": 34,
     "metadata": {},
     "output_type": "execute_result"
    }
   ],
   "source": [
    "# Standardize the values\n",
    "\n",
    "X = customers[['Quantity', 'UnitPrice']]\n",
    "scaler = StandardScaler()\n",
    "X_scaled = scaler.fit_transform(X)\n",
    "X_scaled"
   ]
  },
  {
   "cell_type": "code",
   "execution_count": 35,
   "metadata": {},
   "outputs": [
    {
     "data": {
      "text/plain": [
       "array([[36.],\n",
       "       [36.],\n",
       "       [36.],\n",
       "       ...,\n",
       "       [13.],\n",
       "       [13.],\n",
       "       [13.]])"
      ]
     },
     "execution_count": 35,
     "metadata": {},
     "output_type": "execute_result"
    }
   ],
   "source": [
    "# Convert cathegorical feature to integers\n",
    "\n",
    "countries = customers['Country']\n",
    "countries_2d = [[country] for country in countries]\n",
    "ordinal = OrdinalEncoder()\n",
    "countries_2d_encoded = ordinal.fit_transform(countries_2d)\n",
    "countries_2d_encoded"
   ]
  },
  {
   "cell_type": "code",
   "execution_count": 36,
   "metadata": {},
   "outputs": [
    {
     "data": {
      "text/html": [
       "<div>\n",
       "<style scoped>\n",
       "    .dataframe tbody tr th:only-of-type {\n",
       "        vertical-align: middle;\n",
       "    }\n",
       "\n",
       "    .dataframe tbody tr th {\n",
       "        vertical-align: top;\n",
       "    }\n",
       "\n",
       "    .dataframe thead th {\n",
       "        text-align: right;\n",
       "    }\n",
       "</style>\n",
       "<table border=\"1\" class=\"dataframe\">\n",
       "  <thead>\n",
       "    <tr style=\"text-align: right;\">\n",
       "      <th></th>\n",
       "      <th>Quantity</th>\n",
       "      <th>UnitPrice</th>\n",
       "      <th>Country</th>\n",
       "    </tr>\n",
       "  </thead>\n",
       "  <tbody>\n",
       "    <tr>\n",
       "      <th>0</th>\n",
       "      <td>-0.016289</td>\n",
       "      <td>-0.021301</td>\n",
       "      <td>36.0</td>\n",
       "    </tr>\n",
       "    <tr>\n",
       "      <th>1</th>\n",
       "      <td>-0.016289</td>\n",
       "      <td>-0.012620</td>\n",
       "      <td>36.0</td>\n",
       "    </tr>\n",
       "    <tr>\n",
       "      <th>2</th>\n",
       "      <td>-0.007118</td>\n",
       "      <td>-0.019234</td>\n",
       "      <td>36.0</td>\n",
       "    </tr>\n",
       "    <tr>\n",
       "      <th>3</th>\n",
       "      <td>-0.016289</td>\n",
       "      <td>-0.012620</td>\n",
       "      <td>36.0</td>\n",
       "    </tr>\n",
       "    <tr>\n",
       "      <th>4</th>\n",
       "      <td>-0.016289</td>\n",
       "      <td>-0.012620</td>\n",
       "      <td>36.0</td>\n",
       "    </tr>\n",
       "    <tr>\n",
       "      <th>...</th>\n",
       "      <td>...</td>\n",
       "      <td>...</td>\n",
       "      <td>...</td>\n",
       "    </tr>\n",
       "    <tr>\n",
       "      <th>541904</th>\n",
       "      <td>0.011224</td>\n",
       "      <td>-0.038871</td>\n",
       "      <td>13.0</td>\n",
       "    </tr>\n",
       "    <tr>\n",
       "      <th>541905</th>\n",
       "      <td>-0.016289</td>\n",
       "      <td>-0.025952</td>\n",
       "      <td>13.0</td>\n",
       "    </tr>\n",
       "    <tr>\n",
       "      <th>541906</th>\n",
       "      <td>-0.025460</td>\n",
       "      <td>-0.004766</td>\n",
       "      <td>13.0</td>\n",
       "    </tr>\n",
       "    <tr>\n",
       "      <th>541907</th>\n",
       "      <td>-0.025460</td>\n",
       "      <td>-0.004766</td>\n",
       "      <td>13.0</td>\n",
       "    </tr>\n",
       "    <tr>\n",
       "      <th>541908</th>\n",
       "      <td>-0.030045</td>\n",
       "      <td>0.003502</td>\n",
       "      <td>13.0</td>\n",
       "    </tr>\n",
       "  </tbody>\n",
       "</table>\n",
       "<p>541909 rows × 3 columns</p>\n",
       "</div>"
      ],
      "text/plain": [
       "        Quantity  UnitPrice  Country\n",
       "0      -0.016289  -0.021301     36.0\n",
       "1      -0.016289  -0.012620     36.0\n",
       "2      -0.007118  -0.019234     36.0\n",
       "3      -0.016289  -0.012620     36.0\n",
       "4      -0.016289  -0.012620     36.0\n",
       "...          ...        ...      ...\n",
       "541904  0.011224  -0.038871     13.0\n",
       "541905 -0.016289  -0.025952     13.0\n",
       "541906 -0.025460  -0.004766     13.0\n",
       "541907 -0.025460  -0.004766     13.0\n",
       "541908 -0.030045   0.003502     13.0\n",
       "\n",
       "[541909 rows x 3 columns]"
      ]
     },
     "execution_count": 36,
     "metadata": {},
     "output_type": "execute_result"
    }
   ],
   "source": [
    "customers_scaled = pd.DataFrame(X_scaled, columns = X.columns)\n",
    "customers_scaled['Country'] = countries_2d_encoded\n",
    "customers_scaled"
   ]
  },
  {
   "cell_type": "code",
   "execution_count": 39,
   "metadata": {},
   "outputs": [
    {
     "data": {
      "text/plain": [
       "array([[-1.62886737e-02, -2.13013503e-02,  3.60000000e+01],\n",
       "       [-1.62886737e-02, -1.26200559e-02,  3.60000000e+01],\n",
       "       [-7.11776751e-03, -1.92343755e-02,  3.60000000e+01],\n",
       "       ...,\n",
       "       [-2.54595799e-02, -4.76555138e-03,  1.30000000e+01],\n",
       "       [-2.54595799e-02, -4.76555138e-03,  1.30000000e+01],\n",
       "       [-3.00450330e-02,  3.50234809e-03,  1.30000000e+01]])"
      ]
     },
     "execution_count": 39,
     "metadata": {},
     "output_type": "execute_result"
    }
   ],
   "source": [
    "countries_encoded = countries_2d_encoded.ravel()\n",
    "\n",
    "if len(countries_encoded) == X_scaled.shape[0]:\n",
    "    X_scaled_with_countries = np.concatenate((X_scaled, countries_2d_encoded), axis=1)\n",
    "\n",
    "X_scaled_with_countries"
   ]
  },
  {
   "cell_type": "markdown",
   "metadata": {},
   "source": [
    "<h1 style = \"color: skyblue\">Training</h1>"
   ]
  },
  {
   "cell_type": "code",
   "execution_count": 65,
   "metadata": {},
   "outputs": [
    {
     "data": {
      "text/plain": [
       "[22068662.06032874,\n",
       " 2451218.6576774875,\n",
       " 1942457.9145583683,\n",
       " 1352341.2592110483,\n",
       " 1046433.430715984,\n",
       " 793111.349943083,\n",
       " 687972.2774311367,\n",
       " 442074.4297721669,\n",
       " 346032.1862052187,\n",
       " 258902.24837180096,\n",
       " 239397.01902031145,\n",
       " 181191.9899295503,\n",
       " 155034.67016868995,\n",
       " 115473.56272560162,\n",
       " 109352.78362506468,\n",
       " 100747.0334755452,\n",
       " 87413.74285388397,\n",
       " 80882.12612250871,\n",
       " 71203.8376824142,\n",
       " 63329.175854243214,\n",
       " 57486.251323851815,\n",
       " 54075.60205436449,\n",
       " 48217.28026529282,\n",
       " 42754.810488089715,\n",
       " 38408.5295245317,\n",
       " 35153.78101337051,\n",
       " 34260.99194638404,\n",
       " 32817.5255498556,\n",
       " 32334.250964551822,\n",
       " 28928.487261057817,\n",
       " 26471.400520271894,\n",
       " 25315.036033832268,\n",
       " 23086.8497287447,\n",
       " 22171.01093864813,\n",
       " 19991.623841756544,\n",
       " 19075.822410071996,\n",
       " 18386.284202264887,\n",
       " 17403.205927230654,\n",
       " 15971.732438372974,\n",
       " 15071.969232048637,\n",
       " 14514.02462533601,\n",
       " 14258.646896932747,\n",
       " 13689.463746195817,\n",
       " 13204.13966741915,\n",
       " 12766.196876716069,\n",
       " 12359.660476208579,\n",
       " 11876.385890904801,\n",
       " 11223.063572062125,\n",
       " 10845.503684593144,\n",
       " 10341.031713743703,\n",
       " 10133.077392687494,\n",
       " 9760.203971340616,\n",
       " 9315.254684613506,\n",
       " 9148.57541742069,\n",
       " 8477.441001074048,\n",
       " 8105.092346456049,\n",
       " 7837.7243690278165,\n",
       " 7575.0542486406885,\n",
       " 7250.689204791501,\n",
       " 7137.826669414499,\n",
       " 6863.904785329936,\n",
       " 6643.508070758093,\n",
       " 6360.665192121693,\n",
       " 6059.3328015417055,\n",
       " 5854.322459436191,\n",
       " 5701.326193596408,\n",
       " 5418.778865505899,\n",
       " 5262.061926513068,\n",
       " 5106.10289875285,\n",
       " 4876.433097786471,\n",
       " 4764.425627796366,\n",
       " 4618.226135905094,\n",
       " 4476.208434923501,\n",
       " 4404.007649498014,\n",
       " 4189.168880036722,\n",
       " 4092.661623859465,\n",
       " 3911.271516908773,\n",
       " 3802.973788483847,\n",
       " 3629.882231994722,\n",
       " 3597.8817086961417,\n",
       " 3501.5973461660055,\n",
       " 3381.3279651841463,\n",
       " 3289.209524149564,\n",
       " 3144.256929631205,\n",
       " 3063.6874227760095,\n",
       " 2992.6458726344486,\n",
       " 2923.472033405354,\n",
       " 2826.730159920595,\n",
       " 2696.3252802688803,\n",
       " 2624.389282431037,\n",
       " 2548.0474467190793,\n",
       " 2480.4067079910783,\n",
       " 2455.9497746851357,\n",
       " 2409.689489258715,\n",
       " 2324.105264211196,\n",
       " 2267.971967017884,\n",
       " 2210.9782098739543,\n",
       " 2175.3033472805855,\n",
       " 2126.9678401420997]"
      ]
     },
     "execution_count": 65,
     "metadata": {},
     "output_type": "execute_result"
    }
   ],
   "source": [
    "inertia = []\n",
    "\n",
    "for nr_c in range(1, 100):\n",
    "    kmeans = KMeans(n_clusters = nr_c, random_state = 42, n_init = 'auto')\n",
    "    kmeans.fit(X_scaled_with_countries)\n",
    "    inertia.append(kmeans.inertia_)\n",
    "inertia"
   ]
  },
  {
   "cell_type": "markdown",
   "metadata": {},
   "source": [
    "<h1 style = \"color: skyblue\">Plot for the perfect cluster number</h1>"
   ]
  },
  {
   "cell_type": "code",
   "execution_count": 87,
   "metadata": {},
   "outputs": [
    {
     "data": {
      "image/png": "[encoded data removed]",
      "text/plain": [
       "<Figure size 1000x600 with 1 Axes>"
      ]
     },
     "metadata": {},
     "output_type": "display_data"
    }
   ],
   "source": [
    "cluster_range = range(50, 66) \n",
    "\n",
    "inertia_subset = inertia[50:66]\n",
    "\n",
    "plt.figure(figsize=(10, 6))\n",
    "plt.plot(cluster_range, inertia_subset, marker='o')\n",
    "plt.title('Elbow method for KMeans')\n",
    "plt.xlabel('Number of clusters')\n",
    "plt.ylabel('Inertia')\n",
    "plt.xticks(cluster_range)\n",
    "plt.show()"
   ]
  },
  {
   "cell_type": "code",
   "execution_count": 83,
   "metadata": {},
   "outputs": [
    {
     "name": "stdout",
     "output_type": "stream",
     "text": [
      "Length of inertia array: 99\n"
     ]
    }
   ],
   "source": [
    "print(\"Length of inertia array:\", len(inertia))\n"
   ]
  },
  {
   "cell_type": "code",
   "execution_count": 104,
   "metadata": {},
   "outputs": [
    {
     "data": {
      "text/plain": [
       "array([0, 0, 0, ..., 1, 1, 1], dtype=int32)"
      ]
     },
     "execution_count": 104,
     "metadata": {},
     "output_type": "execute_result"
    }
   ],
   "source": [
    "kmeans = KMeans(n_clusters = 54, random_state = 42, n_init = 'auto')\n",
    "kmeans_labels = kmeans.fit_predict(X_scaled_with_countries)\n",
    "kmeans_labels"
   ]
  },
  {
   "cell_type": "code",
   "execution_count": 105,
   "metadata": {},
   "outputs": [
    {
     "name": "stdout",
     "output_type": "stream",
     "text": [
      "Silhouette score: 0.5575825487761465\n"
     ]
    }
   ],
   "source": [
    "\n",
    "# Assume X_scaled is the array of scaled data and kmeans_labels contains the cluster labels\n",
    "# Calculate the silhouette score\n",
    "score = silhouette_score(X_scaled_with_countries, kmeans_labels)\n",
    "\n",
    "print(\"Silhouette score:\", score)"
   ]
  }
 ],
 "metadata": {
  "kernelspec": {
   "display_name": "Python 3",
   "language": "python",
   "name": "python3"
  },
  "language_info": {
   "codemirror_mode": {
    "name": "ipython",
    "version": 3
   },
   "file_extension": ".py",
   "mimetype": "text/x-python",
   "name": "python",
   "nbconvert_exporter": "python",
   "pygments_lexer": "ipython3",
   "version": "3.10.14"
  }
 },
 "nbformat": 4,
 "nbformat_minor": 2
}
